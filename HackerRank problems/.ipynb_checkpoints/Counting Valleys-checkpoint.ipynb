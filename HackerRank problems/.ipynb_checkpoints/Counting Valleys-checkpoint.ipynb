{
 "cells": [
  {
   "cell_type": "code",
   "execution_count": 22,
   "id": "674826c4",
   "metadata": {},
   "outputs": [
    {
     "name": "stdout",
     "output_type": "stream",
     "text": [
      "16\n",
      "UUUDUDDDUDDUUUDD\n"
     ]
    }
   ],
   "source": [
    "n = int(input())\n",
    "steps = input()"
   ]
  },
  {
   "cell_type": "code",
   "execution_count": 28,
   "id": "c70fcb2d",
   "metadata": {},
   "outputs": [],
   "source": [
    "level,valley = 0,0"
   ]
  },
  {
   "cell_type": "code",
   "execution_count": 24,
   "id": "b2918fb8",
   "metadata": {},
   "outputs": [],
   "source": [
    "for ch in steps:\n",
    "    if ch == 'U':\n",
    "        level += 1\n",
    "    elif ch == 'D':\n",
    "        if level == 0:\n",
    "            valley += 1\n",
    "        level -= 1"
   ]
  },
  {
   "cell_type": "code",
   "execution_count": 25,
   "id": "273e93e0",
   "metadata": {},
   "outputs": [
    {
     "data": {
      "text/plain": [
       "0"
      ]
     },
     "execution_count": 25,
     "metadata": {},
     "output_type": "execute_result"
    }
   ],
   "source": [
    "level"
   ]
  },
  {
   "cell_type": "code",
   "execution_count": 26,
   "id": "b32a850b",
   "metadata": {},
   "outputs": [
    {
     "data": {
      "text/plain": [
       "1"
      ]
     },
     "execution_count": 26,
     "metadata": {},
     "output_type": "execute_result"
    }
   ],
   "source": [
    "valley"
   ]
  }
 ],
 "metadata": {
  "kernelspec": {
   "display_name": "Python 3 (ipykernel)",
   "language": "python",
   "name": "python3"
  },
  "language_info": {
   "codemirror_mode": {
    "name": "ipython",
    "version": 3
   },
   "file_extension": ".py",
   "mimetype": "text/x-python",
   "name": "python",
   "nbconvert_exporter": "python",
   "pygments_lexer": "ipython3",
   "version": "3.9.12"
  }
 },
 "nbformat": 4,
 "nbformat_minor": 5
}
