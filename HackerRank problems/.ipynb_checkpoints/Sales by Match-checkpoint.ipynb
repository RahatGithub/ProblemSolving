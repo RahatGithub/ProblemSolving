{
 "cells": [
  {
   "cell_type": "code",
   "execution_count": 1,
   "id": "421ec0d0",
   "metadata": {
    "scrolled": true
   },
   "outputs": [
    {
     "name": "stdout",
     "output_type": "stream",
     "text": [
      "7\n",
      "1 2 1 2 1 3 2\n"
     ]
    }
   ],
   "source": [
    "n = int(input())\n",
    "colors = list(map(int, input().split()))"
   ]
  },
  {
   "cell_type": "code",
   "execution_count": 39,
   "id": "5cf46f50",
   "metadata": {},
   "outputs": [
    {
     "name": "stdout",
     "output_type": "stream",
     "text": [
      "7\n",
      "1 2 1 2 1 3 2\n",
      "result:  2\n"
     ]
    }
   ],
   "source": [
    "from collections import Counter \n",
    "\n",
    "n = int(input())\n",
    "colors = Counter(map(int, input().split()))\n",
    "pairs = 0\n",
    "for c in colors:\n",
    "    pairs += colors[c]//2\n",
    "print('result: ',pairs)"
   ]
  },
  {
   "cell_type": "code",
   "execution_count": null,
   "id": "b4e41282",
   "metadata": {},
   "outputs": [],
   "source": []
  }
 ],
 "metadata": {
  "kernelspec": {
   "display_name": "Python 3 (ipykernel)",
   "language": "python",
   "name": "python3"
  },
  "language_info": {
   "codemirror_mode": {
    "name": "ipython",
    "version": 3
   },
   "file_extension": ".py",
   "mimetype": "text/x-python",
   "name": "python",
   "nbconvert_exporter": "python",
   "pygments_lexer": "ipython3",
   "version": "3.9.12"
  }
 },
 "nbformat": 4,
 "nbformat_minor": 5
}
